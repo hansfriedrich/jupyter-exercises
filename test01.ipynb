{
 "metadata": {
  "language_info": {
   "codemirror_mode": {
    "name": "ipython",
    "version": 3
   },
   "file_extension": ".py",
   "mimetype": "text/x-python",
   "name": "python",
   "nbconvert_exporter": "python",
   "pygments_lexer": "ipython3",
   "version": "3.9.0-final"
  },
  "orig_nbformat": 2,
  "kernelspec": {
   "name": "python3",
   "display_name": "Python 3.9.0 64-bit",
   "metadata": {
    "interpreter": {
     "hash": "6b1f3b228a7b7f3ab55a7471453412d9956043bc59ca4c252032e5b6d52f835d"
    }
   }
  }
 },
 "nbformat": 4,
 "nbformat_minor": 2,
 "cells": [
  {
   "cell_type": "code",
   "execution_count": 16,
   "metadata": {},
   "outputs": [],
   "source": [
    "import pandas"
   ]
  },
  {
   "cell_type": "code",
   "execution_count": 10,
   "metadata": {},
   "outputs": [],
   "source": [
    "dataframe = pandas.read_json('nachnamen_proplz.json', dtype={'plz': 'str'})"
   ]
  },
  {
   "cell_type": "code",
   "execution_count": 17,
   "metadata": {},
   "outputs": [
    {
     "output_type": "display_data",
     "data": {
      "text/plain": "       stichdatum   plz     nachname  anzahl  rang  \\\n0      2020-11-16  None          n/a       2     1   \n1      2020-11-16  None          n/a       3     1   \n2      2020-11-16  None          n/a       2     3   \n3      2020-11-16  1000       Jolles      15     1   \n4      2020-11-16  1000        Blanc      11     2   \n...           ...   ...          ...     ...   ...   \n32680  2020-11-16  9658       Forrer      39     1   \n32681  2020-11-16  9658         Wenk      29     2   \n32682  2020-11-16  9658        Stump      27     3   \n32683  2020-11-16  9658  Eggenberger      23     4   \n32684  2020-11-16  9658       Forrer      37     1   \n\n                                           ortbez18 sexcode  \n0                                              None       w  \n1                                              None       m  \n2                                              None       m  \n3      Lausanne/Lausanne 25/Lausanne 26/Lausanne 27       w  \n4      Lausanne/Lausanne 25/Lausanne 26/Lausanne 27       w  \n...                                             ...     ...  \n32680                                      Wildhaus       w  \n32681                                      Wildhaus       w  \n32682                                      Wildhaus       w  \n32683                                      Wildhaus       w  \n32684                                      Wildhaus       m  \n\n[32685 rows x 7 columns]",
      "text/html": "<div>\n<style scoped>\n    .dataframe tbody tr th:only-of-type {\n        vertical-align: middle;\n    }\n\n    .dataframe tbody tr th {\n        vertical-align: top;\n    }\n\n    .dataframe thead th {\n        text-align: right;\n    }\n</style>\n<table border=\"1\" class=\"dataframe\">\n  <thead>\n    <tr style=\"text-align: right;\">\n      <th></th>\n      <th>stichdatum</th>\n      <th>plz</th>\n      <th>nachname</th>\n      <th>anzahl</th>\n      <th>rang</th>\n      <th>ortbez18</th>\n      <th>sexcode</th>\n    </tr>\n  </thead>\n  <tbody>\n    <tr>\n      <th>0</th>\n      <td>2020-11-16</td>\n      <td>None</td>\n      <td>n/a</td>\n      <td>2</td>\n      <td>1</td>\n      <td>None</td>\n      <td>w</td>\n    </tr>\n    <tr>\n      <th>1</th>\n      <td>2020-11-16</td>\n      <td>None</td>\n      <td>n/a</td>\n      <td>3</td>\n      <td>1</td>\n      <td>None</td>\n      <td>m</td>\n    </tr>\n    <tr>\n      <th>2</th>\n      <td>2020-11-16</td>\n      <td>None</td>\n      <td>n/a</td>\n      <td>2</td>\n      <td>3</td>\n      <td>None</td>\n      <td>m</td>\n    </tr>\n    <tr>\n      <th>3</th>\n      <td>2020-11-16</td>\n      <td>1000</td>\n      <td>Jolles</td>\n      <td>15</td>\n      <td>1</td>\n      <td>Lausanne/Lausanne 25/Lausanne 26/Lausanne 27</td>\n      <td>w</td>\n    </tr>\n    <tr>\n      <th>4</th>\n      <td>2020-11-16</td>\n      <td>1000</td>\n      <td>Blanc</td>\n      <td>11</td>\n      <td>2</td>\n      <td>Lausanne/Lausanne 25/Lausanne 26/Lausanne 27</td>\n      <td>w</td>\n    </tr>\n    <tr>\n      <th>...</th>\n      <td>...</td>\n      <td>...</td>\n      <td>...</td>\n      <td>...</td>\n      <td>...</td>\n      <td>...</td>\n      <td>...</td>\n    </tr>\n    <tr>\n      <th>32680</th>\n      <td>2020-11-16</td>\n      <td>9658</td>\n      <td>Forrer</td>\n      <td>39</td>\n      <td>1</td>\n      <td>Wildhaus</td>\n      <td>w</td>\n    </tr>\n    <tr>\n      <th>32681</th>\n      <td>2020-11-16</td>\n      <td>9658</td>\n      <td>Wenk</td>\n      <td>29</td>\n      <td>2</td>\n      <td>Wildhaus</td>\n      <td>w</td>\n    </tr>\n    <tr>\n      <th>32682</th>\n      <td>2020-11-16</td>\n      <td>9658</td>\n      <td>Stump</td>\n      <td>27</td>\n      <td>3</td>\n      <td>Wildhaus</td>\n      <td>w</td>\n    </tr>\n    <tr>\n      <th>32683</th>\n      <td>2020-11-16</td>\n      <td>9658</td>\n      <td>Eggenberger</td>\n      <td>23</td>\n      <td>4</td>\n      <td>Wildhaus</td>\n      <td>w</td>\n    </tr>\n    <tr>\n      <th>32684</th>\n      <td>2020-11-16</td>\n      <td>9658</td>\n      <td>Forrer</td>\n      <td>37</td>\n      <td>1</td>\n      <td>Wildhaus</td>\n      <td>m</td>\n    </tr>\n  </tbody>\n</table>\n<p>32685 rows × 7 columns</p>\n</div>"
     },
     "metadata": {}
    }
   ],
   "source": [
    "display(dataframe)"
   ]
  },
  {
   "cell_type": "code",
   "execution_count": 13,
   "metadata": {},
   "outputs": [
    {
     "output_type": "display_data",
     "data": {
      "text/plain": "       stichdatum   plz     nachname  anzahl  rang  \\\n0      2020-11-16  None          n/a       2     1   \n1      2020-11-16  None          n/a       3     1   \n2      2020-11-16  None          n/a       2     3   \n3      2020-11-16  1000       Jolles      15     1   \n4      2020-11-16  1000        Blanc      11     2   \n...           ...   ...          ...     ...   ...   \n32680  2020-11-16  9658       Forrer      39     1   \n32681  2020-11-16  9658         Wenk      29     2   \n32682  2020-11-16  9658        Stump      27     3   \n32683  2020-11-16  9658  Eggenberger      23     4   \n32684  2020-11-16  9658       Forrer      37     1   \n\n                                           ortbez18 sexcode  \n0                                              None       w  \n1                                              None       m  \n2                                              None       m  \n3      Lausanne/Lausanne 25/Lausanne 26/Lausanne 27       w  \n4      Lausanne/Lausanne 25/Lausanne 26/Lausanne 27       w  \n...                                             ...     ...  \n32680                                      Wildhaus       w  \n32681                                      Wildhaus       w  \n32682                                      Wildhaus       w  \n32683                                      Wildhaus       w  \n32684                                      Wildhaus       m  \n\n[32685 rows x 7 columns]",
      "text/html": "<div>\n<style scoped>\n    .dataframe tbody tr th:only-of-type {\n        vertical-align: middle;\n    }\n\n    .dataframe tbody tr th {\n        vertical-align: top;\n    }\n\n    .dataframe thead th {\n        text-align: right;\n    }\n</style>\n<table border=\"1\" class=\"dataframe\">\n  <thead>\n    <tr style=\"text-align: right;\">\n      <th></th>\n      <th>stichdatum</th>\n      <th>plz</th>\n      <th>nachname</th>\n      <th>anzahl</th>\n      <th>rang</th>\n      <th>ortbez18</th>\n      <th>sexcode</th>\n    </tr>\n  </thead>\n  <tbody>\n    <tr>\n      <th>0</th>\n      <td>2020-11-16</td>\n      <td>None</td>\n      <td>n/a</td>\n      <td>2</td>\n      <td>1</td>\n      <td>None</td>\n      <td>w</td>\n    </tr>\n    <tr>\n      <th>1</th>\n      <td>2020-11-16</td>\n      <td>None</td>\n      <td>n/a</td>\n      <td>3</td>\n      <td>1</td>\n      <td>None</td>\n      <td>m</td>\n    </tr>\n    <tr>\n      <th>2</th>\n      <td>2020-11-16</td>\n      <td>None</td>\n      <td>n/a</td>\n      <td>2</td>\n      <td>3</td>\n      <td>None</td>\n      <td>m</td>\n    </tr>\n    <tr>\n      <th>3</th>\n      <td>2020-11-16</td>\n      <td>1000</td>\n      <td>Jolles</td>\n      <td>15</td>\n      <td>1</td>\n      <td>Lausanne/Lausanne 25/Lausanne 26/Lausanne 27</td>\n      <td>w</td>\n    </tr>\n    <tr>\n      <th>4</th>\n      <td>2020-11-16</td>\n      <td>1000</td>\n      <td>Blanc</td>\n      <td>11</td>\n      <td>2</td>\n      <td>Lausanne/Lausanne 25/Lausanne 26/Lausanne 27</td>\n      <td>w</td>\n    </tr>\n    <tr>\n      <th>...</th>\n      <td>...</td>\n      <td>...</td>\n      <td>...</td>\n      <td>...</td>\n      <td>...</td>\n      <td>...</td>\n      <td>...</td>\n    </tr>\n    <tr>\n      <th>32680</th>\n      <td>2020-11-16</td>\n      <td>9658</td>\n      <td>Forrer</td>\n      <td>39</td>\n      <td>1</td>\n      <td>Wildhaus</td>\n      <td>w</td>\n    </tr>\n    <tr>\n      <th>32681</th>\n      <td>2020-11-16</td>\n      <td>9658</td>\n      <td>Wenk</td>\n      <td>29</td>\n      <td>2</td>\n      <td>Wildhaus</td>\n      <td>w</td>\n    </tr>\n    <tr>\n      <th>32682</th>\n      <td>2020-11-16</td>\n      <td>9658</td>\n      <td>Stump</td>\n      <td>27</td>\n      <td>3</td>\n      <td>Wildhaus</td>\n      <td>w</td>\n    </tr>\n    <tr>\n      <th>32683</th>\n      <td>2020-11-16</td>\n      <td>9658</td>\n      <td>Eggenberger</td>\n      <td>23</td>\n      <td>4</td>\n      <td>Wildhaus</td>\n      <td>w</td>\n    </tr>\n    <tr>\n      <th>32684</th>\n      <td>2020-11-16</td>\n      <td>9658</td>\n      <td>Forrer</td>\n      <td>37</td>\n      <td>1</td>\n      <td>Wildhaus</td>\n      <td>m</td>\n    </tr>\n  </tbody>\n</table>\n<p>32685 rows × 7 columns</p>\n</div>"
     },
     "metadata": {}
    }
   ],
   "source": []
  },
  {
   "cell_type": "code",
   "execution_count": null,
   "metadata": {},
   "outputs": [],
   "source": []
  }
 ]
}