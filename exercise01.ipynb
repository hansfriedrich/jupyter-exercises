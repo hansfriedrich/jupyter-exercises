{
 "metadata": {
  "language_info": {
   "codemirror_mode": {
    "name": "ipython",
    "version": 3
   },
   "file_extension": ".py",
   "mimetype": "text/x-python",
   "name": "python",
   "nbconvert_exporter": "python",
   "pygments_lexer": "ipython3",
   "version": "3.9.0-final"
  },
  "orig_nbformat": 2,
  "kernelspec": {
   "name": "python3",
   "display_name": "Python 3.9.0 64-bit",
   "metadata": {
    "interpreter": {
     "hash": "6b1f3b228a7b7f3ab55a7471453412d9956043bc59ca4c252032e5b6d52f835d"
    }
   }
  }
 },
 "nbformat": 4,
 "nbformat_minor": 2,
 "cells": [
  {
   "cell_type": "code",
   "execution_count": null,
   "metadata": {},
   "outputs": [],
   "source": [
    "import pandas\n",
    "import matplotlib.pyplot as plt"
   ]
  },
  {
   "source": [
    "dataframe = pandas.read_csv('data/bil100od1002.csv')"
   ],
   "cell_type": "code",
   "metadata": {},
   "execution_count": null,
   "outputs": []
  },
  {
   "cell_type": "code",
   "execution_count": null,
   "metadata": {},
   "outputs": [],
   "source": [
    "display(dataframe)\n",
    "dataframe.info()"
   ]
  },
  {
   "cell_type": "code",
   "execution_count": null,
   "metadata": {},
   "outputs": [],
   "source": [
    "obl = dataframe.query('Bildungsstand == \"Obligatorische Schule\"')\n",
    "sek = dataframe.query('Bildungsstand == \"Sekundarstufe II\"')\n",
    "ter = dataframe.query('Bildungsstand == \"Tertiärstufe\"')\n",
    "serie_obl = pandas.Series(obl['AntBev'].values, index=obl['Jahr'], name=\"Obligatorische Schule\")\n",
    "serie_sek = pandas.Series(sek['AntBev'].values, index=sek['Jahr'], name=\"Sekundarstufe II\")\n",
    "serie_ter = pandas.Series(ter['AntBev'].values, index=ter['Jahr'], name=\"Tertiärstufe\")"
   ]
  },
  {
   "cell_type": "code",
   "execution_count": null,
   "metadata": {},
   "outputs": [],
   "source": [
    "serie_obl"
   ]
  },
  {
   "cell_type": "code",
   "execution_count": null,
   "metadata": {},
   "outputs": [],
   "source": [
    "serie_sek"
   ]
  },
  {
   "cell_type": "code",
   "execution_count": null,
   "metadata": {},
   "outputs": [],
   "source": [
    "serie_ter"
   ]
  },
  {
   "cell_type": "code",
   "execution_count": null,
   "metadata": {},
   "outputs": [],
   "source": [
    "plt = serie_sek.plot()\n",
    "serie_obl.plot(ax=plt)\n",
    "serie_ter.plot(ax=plt)"
   ]
  },
  {
   "cell_type": "code",
   "execution_count": null,
   "metadata": {},
   "outputs": [],
   "source": [
    "merged_dataframe = pandas.merge(serie_obl, serie_sek, left_index=True, right_index=True).merge(serie_ter, left_index=True, right_index=True)\n",
    "merged_dataframe"
   ]
  },
  {
   "cell_type": "code",
   "execution_count": null,
   "metadata": {},
   "outputs": [],
   "source": [
    "ax = merged_dataframe.plot.area()"
   ]
  },
  {
   "cell_type": "code",
   "execution_count": null,
   "metadata": {},
   "outputs": [],
   "source": []
  }
 ]
}